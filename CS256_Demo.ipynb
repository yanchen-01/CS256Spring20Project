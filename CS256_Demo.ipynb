{
 "cells": [
  {
   "cell_type": "markdown",
   "metadata": {},
   "source": [
    "## Import libraries"
   ]
  },
  {
   "cell_type": "code",
   "execution_count": 1,
   "metadata": {},
   "outputs": [],
   "source": [
    "import pandas as pd\n",
    "import sklearn.metrics as metrics\n",
    "from joblib import dump, load"
   ]
  },
  {
   "cell_type": "markdown",
   "metadata": {},
   "source": [
    "## Load data"
   ]
  },
  {
   "cell_type": "code",
   "execution_count": 2,
   "metadata": {},
   "outputs": [],
   "source": [
    "data = pd.read_csv('Data/creditcard_testing.csv')\n",
    "X = data.drop(columns = [\"Class\"])\n",
    "y = data[\"Class\"]"
   ]
  },
  {
   "cell_type": "markdown",
   "metadata": {},
   "source": [
    "## Function to print the scores"
   ]
  },
  {
   "cell_type": "code",
   "execution_count": 3,
   "metadata": {},
   "outputs": [],
   "source": [
    "def printScores(model_name):\n",
    "    clf = load(model_name)\n",
    "    pred = clf.predict(X)\n",
    "    \n",
    "    # Originally, -1 is the outlier for LOF output\n",
    "    # Swap the label so that 1 is the outlier for LOF\n",
    "    if(\"LOF\" in model_name):\n",
    "        pred[pred==-1] = 0\n",
    "        pred[pred==1] = -1\n",
    "        pred[pred==0] = 1\n",
    "\n",
    "    print(f\"accuracy: {metrics.accuracy_score(y, pred)}\")\n",
    "    print(f\"precision: {metrics.precision_score(y, pred)}\")\n",
    "    print(f\"recall: {metrics.recall_score(y, pred)}\")\n",
    "    print(f\"f1_score: {metrics.f1_score(y, pred)}\")\n",
    "    \n",
    "    "
   ]
  },
  {
   "cell_type": "markdown",
   "metadata": {},
   "source": [
    "## Load pre-trained model and test"
   ]
  },
  {
   "cell_type": "code",
   "execution_count": 4,
   "metadata": {},
   "outputs": [],
   "source": [
    "classifiers = [\"LOF\", \"SVM-rbf\", \"SVM-poly\"]    "
   ]
  },
  {
   "cell_type": "markdown",
   "metadata": {},
   "source": [
    "### Original without resampling"
   ]
  },
  {
   "cell_type": "code",
   "execution_count": 5,
   "metadata": {},
   "outputs": [
    {
     "name": "stdout",
     "output_type": "stream",
     "text": [
      "Before resampling:\n",
      "LOF\n",
      "accuracy: 0.9273037542662116\n",
      "precision: 0.0\n",
      "recall: 0.0\n",
      "f1_score: 0.0\n",
      "SVM-rbf\n",
      "accuracy: 0.9996587030716724\n",
      "precision: 0.8571428571428571\n",
      "recall: 1.0\n",
      "f1_score: 0.923076923076923\n",
      "SVM-poly\n",
      "accuracy: 1.0\n",
      "precision: 1.0\n",
      "recall: 1.0\n",
      "f1_score: 1.0\n"
     ]
    }
   ],
   "source": [
    "print(\"Before resampling:\")\n",
    "for clf_name in classifiers:\n",
    "    print(clf_name)\n",
    "    filename = \"SavedModels/\" + clf_name + \".joblib\"\n",
    "    printScores(filename)"
   ]
  },
  {
   "cell_type": "markdown",
   "metadata": {},
   "source": [
    "### with resampling"
   ]
  },
  {
   "cell_type": "code",
   "execution_count": 6,
   "metadata": {},
   "outputs": [
    {
     "name": "stdout",
     "output_type": "stream",
     "text": [
      "After resampling:\n",
      "LOF\n",
      "accuracy: 0.9129692832764505\n",
      "precision: 0.022988505747126436\n",
      "recall: 1.0\n",
      "f1_score: 0.0449438202247191\n",
      "SVM-rbf\n",
      "accuracy: 0.995221843003413\n",
      "precision: 0.3\n",
      "recall: 1.0\n",
      "f1_score: 0.4615384615384615\n",
      "SVM-poly\n",
      "accuracy: 0.9976109215017065\n",
      "precision: 0.46153846153846156\n",
      "recall: 1.0\n",
      "f1_score: 0.631578947368421\n"
     ]
    }
   ],
   "source": [
    "print(\"After resampling:\")\n",
    "for clf_name in classifiers:\n",
    "    print(clf_name)\n",
    "    filename = \"SavedModels/\" + clf_name + \"_re.joblib\"\n",
    "    printScores(filename)"
   ]
  }
 ],
 "metadata": {
  "kernelspec": {
   "display_name": "Python 3",
   "language": "python",
   "name": "python3"
  },
  "language_info": {
   "codemirror_mode": {
    "name": "ipython",
    "version": 3
   },
   "file_extension": ".py",
   "mimetype": "text/x-python",
   "name": "python",
   "nbconvert_exporter": "python",
   "pygments_lexer": "ipython3",
   "version": "3.7.6"
  }
 },
 "nbformat": 4,
 "nbformat_minor": 4
}
